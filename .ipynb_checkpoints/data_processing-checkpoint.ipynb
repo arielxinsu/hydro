{
 "cells": [
  {
   "cell_type": "code",
   "execution_count": 1,
   "id": "af20055e",
   "metadata": {},
   "outputs": [],
   "source": [
    "import os\n",
    "script_dir = os.path.dirname('__file__') #<-- absolute dir the script is in\n",
    "rel_path = \"output/simulation_hydro1/hydro_test001/vtk/experiment.csv\"\n",
    "abs_file_path = os.path.join(script_dir, rel_path)"
   ]
  },
  {
   "cell_type": "code",
   "execution_count": 2,
   "id": "34eb8ea7",
   "metadata": {},
   "outputs": [],
   "source": [
    "import numpy as np"
   ]
  },
  {
   "cell_type": "code",
   "execution_count": 3,
   "id": "8b5a1c55",
   "metadata": {},
   "outputs": [],
   "source": [
    "array=np.loadtxt(open(abs_file_path, \"rb\"), delimiter=\",\", skiprows=1)"
   ]
  },
  {
   "cell_type": "code",
   "execution_count": 4,
   "id": "8f37de21",
   "metadata": {},
   "outputs": [
    {
     "data": {
      "text/plain": [
       "(258964, 9)"
      ]
     },
     "execution_count": 4,
     "metadata": {},
     "output_type": "execute_result"
    }
   ],
   "source": [
    "array.shape"
   ]
  },
  {
   "cell_type": "code",
   "execution_count": 5,
   "id": "d9b7d195",
   "metadata": {},
   "outputs": [],
   "source": [
    "VX=np.reshape(array[0*2564:(0+1)*2564-1,3],(2563,1))\n",
    "for i in range(1,101):\n",
    "    VX=np.append(VX,np.reshape(array[i*2564:(i+1)*2564-1,3],(2563,1)),axis=1)"
   ]
  },
  {
   "cell_type": "code",
   "execution_count": 6,
   "id": "95c3b358",
   "metadata": {},
   "outputs": [],
   "source": [
    "VY=np.reshape(array[0*2564:(0+1)*2564-1,4],(2563,1))\n",
    "for i in range(1,101):\n",
    "    VY=np.append(VY,np.reshape(array[i*2564:(i+1)*2564-1,4],(2563,1)),axis=1)"
   ]
  },
  {
   "cell_type": "code",
   "execution_count": 7,
   "id": "fdc9fbf3",
   "metadata": {},
   "outputs": [],
   "source": [
    "VZ=np.reshape(array[0*2564:(0+1)*2564-1,5],(2563,1))\n",
    "for i in range(1,101):\n",
    "    VZ=np.append(VZ,np.reshape(array[i*2564:(i+1)*2564-1,5],(2563,1)),axis=1)"
   ]
  },
  {
   "cell_type": "code",
   "execution_count": 10,
   "id": "01ac882c",
   "metadata": {},
   "outputs": [
    {
     "data": {
      "text/plain": [
       "(2563, 101)"
      ]
     },
     "execution_count": 10,
     "metadata": {},
     "output_type": "execute_result"
    }
   ],
   "source": [
    "VZ.shape"
   ]
  },
  {
   "cell_type": "code",
   "execution_count": 13,
   "id": "45e57d3e",
   "metadata": {},
   "outputs": [
    {
     "data": {
      "text/plain": [
       "array([ 0.0000000e+00, -1.4966761e-05, -2.4512262e-02, -2.4508906e-02,\n",
       "       -2.5178618e-02, -3.2691306e-02, -5.8179500e-02, -5.8950147e-02,\n",
       "       -1.6908003e-02, -2.8756187e-03, -3.1402273e-02, -7.9030103e-02,\n",
       "       -5.1009440e-02, -2.4244150e-02, -2.5449550e-02, -3.3092296e-02,\n",
       "       -4.4989086e-02, -5.5213176e-02, -1.4418849e-02, -3.5546037e-02,\n",
       "       -6.2330547e-02, -3.8861088e-02, -1.7026849e-02, -1.6597003e-02,\n",
       "       -1.3380775e-02, -1.9162334e-02, -3.1571506e-02, -4.3573271e-02,\n",
       "       -3.3932243e-02, -6.2316610e-02, -2.2289763e-02, -1.7051630e-02,\n",
       "       -1.1060506e-02, -1.3542814e-02, -2.2207744e-02, -5.1351521e-02,\n",
       "       -6.8146928e-02, -3.0031879e-02, -5.0669986e-04,  1.2765467e-05,\n",
       "        5.0162418e-03, -6.3161174e-03, -2.9317946e-02, -2.9195947e-02,\n",
       "       -3.4145493e-02, -3.4919079e-02, -5.3655684e-03, -3.5645895e-03,\n",
       "       -6.9710156e-03,  1.3940943e-03,  1.4970129e-02, -4.9223814e-03,\n",
       "       -3.4288161e-02, -3.8380158e-02, -1.1657683e-02, -4.0736329e-03,\n",
       "       -4.3076824e-03, -1.5268865e-02, -2.8707534e-02, -4.6816009e-02,\n",
       "       -2.4296440e-02, -2.4527685e-02, -2.4097741e-02,  4.6300927e-03,\n",
       "        2.3824743e-02,  5.7698112e-04, -4.9395225e-03, -1.8376898e-02,\n",
       "       -1.7757142e-02, -1.9631492e-02, -2.1190837e-02, -1.7485499e-02,\n",
       "       -2.8443188e-03, -2.4531982e-02, -3.3148960e-02, -1.1880400e-02,\n",
       "       -3.5032803e-03,  1.0368072e-02, -6.5737691e-03, -3.9790947e-03,\n",
       "       -9.7171829e-03, -3.5672023e-02, -1.9746238e-02,  2.8611672e-03,\n",
       "        1.3609750e-02, -7.3174632e-03, -5.0310696e-03,  2.6124062e-02,\n",
       "        1.5857513e-02,  9.0658838e-03,  7.3594658e-03, -8.9989881e-03,\n",
       "        1.1237059e-02,  2.5011107e-02, -4.8266686e-03, -1.1565817e-02,\n",
       "        6.3595069e-03, -3.0552443e-04,  1.1838643e-02,  1.1501297e-02,\n",
       "        1.0591065e-01])"
      ]
     },
     "execution_count": 13,
     "metadata": {},
     "output_type": "execute_result"
    }
   ],
   "source": [
    "VZ[0,:]"
   ]
  },
  {
   "cell_type": "markdown",
   "id": "1df9cf8d",
   "metadata": {},
   "source": []
  },
  {
   "cell_type": "code",
   "execution_count": 18,
   "id": "a4743028",
   "metadata": {},
   "outputs": [],
   "source": [
    "CX=np.dot(VX,np.transpose(VX))"
   ]
  },
  {
   "cell_type": "code",
   "execution_count": 19,
   "id": "5114cd0c",
   "metadata": {},
   "outputs": [],
   "source": [
    "CY=np.dot(VY,np.transpose(VY))"
   ]
  },
  {
   "cell_type": "code",
   "execution_count": 20,
   "id": "4d501bf6",
   "metadata": {},
   "outputs": [],
   "source": [
    "CZ=np.dot(VZ,np.transpose(VZ))"
   ]
  },
  {
   "cell_type": "code",
   "execution_count": null,
   "id": "56ccb094",
   "metadata": {},
   "outputs": [],
   "source": []
  },
  {
   "cell_type": "code",
   "execution_count": null,
   "id": "73cb1af8",
   "metadata": {},
   "outputs": [],
   "source": []
  }
 ],
 "metadata": {
  "kernelspec": {
   "display_name": "Python 3 (ipykernel)",
   "language": "python",
   "name": "python3"
  },
  "language_info": {
   "codemirror_mode": {
    "name": "ipython",
    "version": 3
   },
   "file_extension": ".py",
   "mimetype": "text/x-python",
   "name": "python",
   "nbconvert_exporter": "python",
   "pygments_lexer": "ipython3",
   "version": "3.9.12"
  }
 },
 "nbformat": 4,
 "nbformat_minor": 5
}
