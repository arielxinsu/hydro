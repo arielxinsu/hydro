{
 "cells": [
  {
   "cell_type": "code",
   "execution_count": null,
   "id": "1180d80c",
   "metadata": {},
   "outputs": [],
   "source": [
    "from selm_lammps.lammps import IPyLammps\n",
    "L=IPyLammps();\n",
    "\n",
    "random.seed(27848)\n",
    "deltaperturb = 0.2\n",
    "\n",
    "for i in range(L.system.natoms):\n",
    "    x, y = L.atoms[i].position\n",
    "    dx = deltaperturb \\* random.uniform(-1, 1)\n",
    "    dy = deltaperturb \\* random.uniform(-1, 1)\n",
    "    L.atoms[i].position  = (x+dx, y+dy)\n",
    "\n",
    "L.run(0)"
   ]
  }
 ],
 "metadata": {
  "kernelspec": {
   "display_name": "Python 3 (ipykernel)",
   "language": "python",
   "name": "python3"
  },
  "language_info": {
   "codemirror_mode": {
    "name": "ipython",
    "version": 3
   },
   "file_extension": ".py",
   "mimetype": "text/x-python",
   "name": "python",
   "nbconvert_exporter": "python",
   "pygments_lexer": "ipython3",
   "version": "3.9.12"
  }
 },
 "nbformat": 4,
 "nbformat_minor": 5
}
