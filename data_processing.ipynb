{
 "cells": [
  {
   "cell_type": "markdown",
   "id": "6d8143c9",
   "metadata": {},
   "source": [
    "The \"Experiment.csv\" file contains simulation data output with the following columns:timestep, atom id, atom type, vx (velocity along the x-axis), vy (velocity along the y-axis), and vz (velocity along the z-axis), x, y, z. The data is organized in ascending order based on the time-step as the primary sorting condition, and within each time-step, it is further sorted by atom id as the secondary sorting condition."
   ]
  },
  {
   "cell_type": "code",
   "execution_count": 1,
   "id": "af20055e",
   "metadata": {},
   "outputs": [],
   "source": [
    "import os\n",
    "script_dir = os.path.dirname('__file__') #<-- absolute dir the script is in\n",
    "rel_path = \"output/simulation_hydro1/hydro_test001/vtk/experiment.csv\"\n",
    "abs_file_path = os.path.join(script_dir, rel_path)"
   ]
  },
  {
   "cell_type": "code",
   "execution_count": 2,
   "id": "34eb8ea7",
   "metadata": {},
   "outputs": [],
   "source": [
    "import numpy as np"
   ]
  },
  {
   "cell_type": "code",
   "execution_count": 3,
   "id": "8b5a1c55",
   "metadata": {},
   "outputs": [],
   "source": [
    "array=np.loadtxt(open(abs_file_path, \"rb\"), delimiter=\",\", skiprows=1)"
   ]
  },
  {
   "cell_type": "code",
   "execution_count": 4,
   "id": "8f37de21",
   "metadata": {},
   "outputs": [
    {
     "data": {
      "text/plain": [
       "(258964, 9)"
      ]
     },
     "execution_count": 4,
     "metadata": {},
     "output_type": "execute_result"
    }
   ],
   "source": [
    "array.shape"
   ]
  },
  {
   "cell_type": "markdown",
   "id": "e5c64631",
   "metadata": {},
   "source": [
    "We extra the velocities data from the file. Arrange the data in the following way:\n",
    "$$V=\\left[\\begin{array}{c}VX\\\\\n",
    "VY\\\\\n",
    "VZ\\end{array}\\right]=\\left[\\begin{array}{cccc} v_x\\left(x_{1}, t_{0}\\right) & v_x\\left(x_{1}, t_{1}\\right) & \\cdots & v_x\\left(x_{1}, t_{100}\\right) \\\\ v_x\\left(x_{2}, t_{0}\\right) & v_x\\left(x_{2}, t_{1}\\right) & \\cdots & v_x\\left(x_{2}, t_{100}\\right) \\\\ \\vdots & \\vdots & \\ddots & \\vdots \\\\ v_x\\left(x_{2563}, t_{0}\\right) & u\\left(x_{2563}, t_{1}\\right) & \\cdots & v_x\\left(x_{2563}, t_{100}\\right) \\\\ v_y\\left(x_{1}, t_{0}\\right) & v_y\\left(x_{1}, t_{1}\\right) & \\cdots & v_y\\left(x_{1}, t_{100}\\right) \\\\ v_y\\left(x_{2}, t_{0}\\right) & v_y\\left(x_{2}, t_{1}\\right) & \\cdots & v_y\\left(x_{2}, t_{100}\\right) \\\\ \\vdots & \\vdots & \\ddots & \\vdots \\\\ v_y\\left(x_{2563}, t_{0}\\right) & v_y\\left(x_{2563}, t_{1}\\right) & \\cdots & v_y\\left(x_{2563}, t_{100}\\right)\\\\ v_z\\left(x_{1}, t_{0}\\right) & v_z\\left(x_{1}, t_{1}\\right) & \\cdots & v_z\\left(x_{1}, t_{100}\\right) \\\\ v_z\\left(x_{2}, t_{0}\\right) & v_z\\left(x_{2}, t_{1}\\right) & \\cdots & v_z\\left(x_{2}, t_{100}\\right) \\\\ \\vdots & \\vdots & \\ddots & \\vdots \\\\ v_z\\left(x_{2563}, t_{0}\\right) & v_z\\left(x_{2563}, t_{1}\\right) & \\cdots & v_z\\left(x_{2563}, t_{100}\\right)\\end{array}\\right]$$\n"
   ]
  },
  {
   "cell_type": "code",
   "execution_count": 5,
   "id": "d9b7d195",
   "metadata": {},
   "outputs": [],
   "source": [
    "VX=np.reshape(array[0*2564:(0+1)*2564-1,3],(2563,1))\n",
    "for i in range(1,101):\n",
    "    VX=np.append(VX,np.reshape(array[i*2564:(i+1)*2564-1,3],(2563,1)),axis=1)"
   ]
  },
  {
   "cell_type": "code",
   "execution_count": 6,
   "id": "95c3b358",
   "metadata": {},
   "outputs": [],
   "source": [
    "VY=np.reshape(array[0*2564:(0+1)*2564-1,4],(2563,1))\n",
    "for i in range(1,101):\n",
    "    VY=np.append(VY,np.reshape(array[i*2564:(i+1)*2564-1,4],(2563,1)),axis=1)"
   ]
  },
  {
   "cell_type": "code",
   "execution_count": 7,
   "id": "fdc9fbf3",
   "metadata": {},
   "outputs": [],
   "source": [
    "VZ=np.reshape(array[0*2564:(0+1)*2564-1,5],(2563,1))\n",
    "for i in range(1,101):\n",
    "    VZ=np.append(VZ,np.reshape(array[i*2564:(i+1)*2564-1,5],(2563,1)),axis=1)"
   ]
  },
  {
   "cell_type": "code",
   "execution_count": 8,
   "id": "01ac882c",
   "metadata": {},
   "outputs": [
    {
     "data": {
      "text/plain": [
       "(2563, 101)"
      ]
     },
     "execution_count": 8,
     "metadata": {},
     "output_type": "execute_result"
    }
   ],
   "source": [
    "VZ.shape"
   ]
  },
  {
   "cell_type": "code",
   "execution_count": 9,
   "id": "73cb1af8",
   "metadata": {},
   "outputs": [],
   "source": [
    "V=np.concatenate((VX,VY),axis=0)"
   ]
  },
  {
   "cell_type": "code",
   "execution_count": 10,
   "id": "346e0a41",
   "metadata": {},
   "outputs": [],
   "source": [
    "V=np.concatenate((V,VZ),axis=0)"
   ]
  },
  {
   "cell_type": "code",
   "execution_count": 13,
   "id": "d4b9008d",
   "metadata": {},
   "outputs": [
    {
     "data": {
      "text/plain": [
       "(7689, 101)"
      ]
     },
     "execution_count": 13,
     "metadata": {},
     "output_type": "execute_result"
    }
   ],
   "source": [
    "V.shape"
   ]
  },
  {
   "cell_type": "markdown",
   "id": "44aa7607",
   "metadata": {},
   "source": [
    "Utilizing Singular Value Decomposition (SVD) on matrix V and visualizing the singular values through plotting to observe their trends."
   ]
  },
  {
   "cell_type": "code",
   "execution_count": 16,
   "id": "848a8ffa",
   "metadata": {},
   "outputs": [
    {
     "name": "stdout",
     "output_type": "stream",
     "text": [
      "(7689, 101)\n",
      "(101,)\n",
      "(101, 101)\n"
     ]
    }
   ],
   "source": [
    "U, S, Vh = np.linalg.svd(V,full_matrices=False)\n",
    "print(np.shape(U))\n",
    "print(np.shape(S))\n",
    "print(np.shape(Vh))"
   ]
  },
  {
   "cell_type": "code",
   "execution_count": 22,
   "id": "8ea440f1",
   "metadata": {},
   "outputs": [
    {
     "data": {
      "text/plain": [
       "Text(0, 0.5, 'singlar value')"
      ]
     },
     "execution_count": 22,
     "metadata": {},
     "output_type": "execute_result"
    },
    {
     "data": {
      "image/png": "[encoded data removed]",
      "text/plain": [
       "<Figure size 432x288 with 1 Axes>"
      ]
     },
     "metadata": {
      "needs_background": "light"
     },
     "output_type": "display_data"
    }
   ],
   "source": [
    "from matplotlib import pyplot as plt\n",
    "plt.semilogy(S,'-.')\n",
    "plt.xlim(0,99)\n",
    "plt.ylim(10**(-2),10**2)\n",
    "plt.xlabel('Index',fontsize=10)\n",
    "plt.ylabel('singlar value',fontsize=10)"
   ]
  },
  {
   "cell_type": "markdown",
   "id": "0c5845d7",
   "metadata": {},
   "source": [
    "The first 40 singular values account for a significant proportion of the total sum of all singular values."
   ]
  },
  {
   "cell_type": "code",
   "execution_count": 31,
   "id": "68dd02e3",
   "metadata": {},
   "outputs": [
    {
     "data": {
      "text/plain": [
       "0.9229389181761992"
      ]
     },
     "execution_count": 31,
     "metadata": {},
     "output_type": "execute_result"
    }
   ],
   "source": [
    "sum(S[0:40])/sum(S)"
   ]
  }
 ],
 "metadata": {
  "kernelspec": {
   "display_name": "Python 3 (ipykernel)",
   "language": "python",
   "name": "python3"
  },
  "language_info": {
   "codemirror_mode": {
    "name": "ipython",
    "version": 3
   },
   "file_extension": ".py",
   "mimetype": "text/x-python",
   "name": "python",
   "nbconvert_exporter": "python",
   "pygments_lexer": "ipython3",
   "version": "3.9.12"
  }
 },
 "nbformat": 4,
 "nbformat_minor": 5
}
